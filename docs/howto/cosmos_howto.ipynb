{
 "cells": [
  {
   "cell_type": "markdown",
   "metadata": {},
   "source": [
    "# <font color='white'>COSMOS</font>"
   ]
  },
  {
   "cell_type": "markdown",
   "metadata": {},
   "source": [
    "### <font color='yellow'>IMPORTAÇÕES</font>\n",
    "\n",
    "> necessário adicionar a raiz do projeto na varável **PYTHONPATH**"
   ]
  },
  {
   "cell_type": "code",
   "execution_count": 1,
   "metadata": {},
   "outputs": [],
   "source": [
    "from dslib.banco import cosmos\n",
    "import os"
   ]
  },
  {
   "cell_type": "markdown",
   "metadata": {},
   "source": [
    "### <font color='yellow'>Instânciando o objeto</font>\n",
    "\n",
    "> o metodo factory chama o construtor e devolve o objeto **cosmos** para uso da aplicação"
   ]
  },
  {
   "cell_type": "code",
   "execution_count": 2,
   "metadata": {},
   "outputs": [],
   "source": [
    "c = cosmos.factory(\n",
    "    cosmos_uri=os.environ['CosmosURI'],\n",
    "    cosmos_key=os.environ['CosmosKey'])"
   ]
  },
  {
   "cell_type": "code",
   "execution_count": 5,
   "metadata": {},
   "outputs": [],
   "source": [
    "from azure.cosmos import CosmosClient \n",
    "client = CosmosClient(os.environ['CosmosURI'],os.environ['CosmosKey'])\n"
   ]
  },
  {
   "cell_type": "markdown",
   "metadata": {},
   "source": [
    "## <font color='yellow'>MERGE</font>\n",
    "\n",
    "#### <font color='orange'>efetua o merge do item novo com o antigo (prevalecendo o novo)</font>\n",
    "\n",
    "#### content\n",
    "> dicionario com os valores que serão inseridos ou atualizados, deve conter o **id_key** e a **partition_key**\n",
    "\n",
    "#### partition_key (chave de paritição)\n",
    "> (opcional) >> usada para definir o 'endereço' que o dado será gravado / apenas necessária caso o container não tenha sido criando\n",
    "\n",
    "#### container\n",
    "> nome da coleção\n",
    "\n",
    "#### database\n",
    "> nome da base de dados"
   ]
  },
  {
   "cell_type": "code",
   "execution_count": 6,
   "metadata": {},
   "outputs": [
    {
     "name": "stdout",
     "output_type": "stream",
     "text": [
      "Fail! >> (NotFound) Message: {\"Errors\":[\"Owner resource does not exist\"]}\n",
      "ActivityId: 648e7813-f0bd-4c05-ba32-b97ebf629328, Request URI: /apps/da7ef5da-87ed-48f3-b118-57d6c185ac8f/services/2a8319b0-bc61-4fa3-8e75-e8cd91b100f7/partitions/fc10b512-7fdb-484e-941d-e5bdf321322c/replicas/132778185055609975s, RequestStats: \n",
      "RequestStartTime: 2022-01-19T22:10:19.1638062Z, RequestEndTime: 2022-01-19T22:10:19.1638062Z,  Number of regions attempted:1\n",
      "{\"systemHistory\":[{\"dateUtc\":\"2022-01-19T22:09:22.3727700Z\",\"cpu\":0.504,\"memory\":494371452.000,\"threadInfo\":{\"isThreadStarving\":\"False\",\"threadWaitIntervalInMs\":0.0306,\"availableThreads\":32765,\"minThreads\":52,\"maxThreads\":32767}},{\"dateUtc\":\"2022-01-19T22:09:32.3830082Z\",\"cpu\":0.426,\"memory\":494266284.000,\"threadInfo\":{\"isThreadStarving\":\"False\",\"threadWaitIntervalInMs\":0.0174,\"availableThreads\":32765,\"minThreads\":52,\"maxThreads\":32767}},{\"dateUtc\":\"2022-01-19T22:09:42.3931740Z\",\"cpu\":0.376,\"memory\":494159576.000,\"threadInfo\":{\"isThreadStarving\":\"False\",\"threadWaitIntervalInMs\":0.0413,\"availableThreads\":32764,\"minThreads\":52,\"maxThreads\":32767}},{\"dateUtc\":\"2022-01-19T22:09:52.4033763Z\",\"cpu\":1.361,\"memory\":495129248.000,\"threadInfo\":{\"isThreadStarving\":\"False\",\"threadWaitIntervalInMs\":0.0177,\"availableThreads\":32762,\"minThreads\":52,\"maxThreads\":32767}},{\"dateUtc\":\"2022-01-19T22:10:02.4135644Z\",\"cpu\":0.591,\"memory\":494933828.000,\"threadInfo\":{\"isThreadStarving\":\"False\",\"threadWaitIntervalInMs\":0.0164,\"availableThreads\":32765,\"minThreads\":52,\"maxThreads\":32767}},{\"dateUtc\":\"2022-01-19T22:10:12.4237403Z\",\"cpu\":1.724,\"memory\":495304832.000,\"threadInfo\":{\"isThreadStarving\":\"False\",\"threadWaitIntervalInMs\":0.0205,\"availableThreads\":32765,\"minThreads\":52,\"maxThreads\":32767}}]}\n",
      "RequestStart: 2022-01-19T22:10:19.1638062Z; ResponseTime: 2022-01-19T22:10:19.1638062Z; StoreResult: StorePhysicalAddress: rntbd://10.0.0.26:11300/apps/da7ef5da-87ed-48f3-b118-57d6c185ac8f/services/2a8319b0-bc61-4fa3-8e75-e8cd91b100f7/partitions/fc10b512-7fdb-484e-941d-e5bdf321322c/replicas/132778185055609975s, LSN: 102, GlobalCommittedLsn: 102, PartitionKeyRangeId: , IsValid: True, StatusCode: 404, SubStatusCode: 1003, RequestCharge: 1, ItemLSN: -1, SessionToken: -1#102, UsingLocalLSN: False, TransportException: null, BELatencyMs: 1.24, ActivityId: 648e7813-f0bd-4c05-ba32-b97ebf629328, RetryAfterInMs: , TransportRequestTimeline: {\"requestTimeline\":[{\"event\": \"Created\", \"startTimeUtc\": \"2022-01-19T22:10:19.1638062Z\", \"durationInMs\": 0.0169},{\"event\": \"ChannelAcquisitionStarted\", \"startTimeUtc\": \"2022-01-19T22:10:19.1638231Z\", \"durationInMs\": 0.0099},{\"event\": \"Pipelined\", \"startTimeUtc\": \"2022-01-19T22:10:19.1638330Z\", \"durationInMs\": 0.2384},{\"event\": \"Transit Time\", \"startTimeUtc\": \"2022-01-19T22:10:19.1640714Z\", \"durationInMs\": 1.8292},{\"event\": \"Received\", \"startTimeUtc\": \"2022-01-19T22:10:19.1659006Z\", \"durationInMs\": 0.0222},{\"event\": \"Completed\", \"startTimeUtc\": \"2022-01-19T22:10:19.1659228Z\", \"durationInMs\": 0}],\"requestSizeInBytes\":474,\"responseMetadataSizeInBytes\":143,\"responseBodySizeInBytes\":44};\n",
      " ResourceType: Collection, OperationType: Read\n",
      "RequestStart: 2022-01-19T22:10:19.1638062Z; ResponseTime: 2022-01-19T22:10:19.1638062Z; StoreResult: StorePhysicalAddress: rntbd://10.0.0.21:11000/apps/da7ef5da-87ed-48f3-b118-57d6c185ac8f/services/2a8319b0-bc61-4fa3-8e75-e8cd91b100f7/partitions/fc10b512-7fdb-484e-941d-e5bdf321322c/replicas/132778185055609973s, LSN: 102, GlobalCommittedLsn: 102, PartitionKeyRangeId: , IsValid: True, StatusCode: 404, SubStatusCode: 1003, RequestCharge: 1, ItemLSN: -1, SessionToken: -1#102, UsingLocalLSN: False, TransportException: null, BELatencyMs: 0.674, ActivityId: 648e7813-f0bd-4c05-ba32-b97ebf629328, RetryAfterInMs: , TransportRequestTimeline: {\"requestTimeline\":[{\"event\": \"Created\", \"startTimeUtc\": \"2022-01-19T22:10:19.1638062Z\", \"durationInMs\": 0.0063},{\"event\": \"ChannelAcquisitionStarted\", \"startTimeUtc\": \"2022-01-19T22:10:19.1638125Z\", \"durationInMs\": 0.0065},{\"event\": \"Pipelined\", \"startTimeUtc\": \"2022-01-19T22:10:19.1638190Z\", \"durationInMs\": 0.3055},{\"event\": \"Transit Time\", \"startTimeUtc\": \"2022-01-19T22:10:19.1641245Z\", \"durationInMs\": 1.274},{\"event\": \"Received\", \"startTimeUtc\": \"2022-01-19T22:10:19.1653985Z\", \"durationInMs\": 0.0315},{\"event\": \"Completed\", \"startTimeUtc\": \"2022-01-19T22:10:19.1654300Z\", \"durationInMs\": 0}],\"requestSizeInBytes\":474,\"responseMetadataSizeInBytes\":143,\"responseBodySizeInBytes\":44};\n",
      " ResourceType: Collection, OperationType: Read\n",
      ", SDK: Microsoft.Azure.Documents.Common/2.14.0\n",
      "Code: NotFound\n",
      "Message: Message: {\"Errors\":[\"Owner resource does not exist\"]}\n",
      "ActivityId: 648e7813-f0bd-4c05-ba32-b97ebf629328, Request URI: /apps/da7ef5da-87ed-48f3-b118-57d6c185ac8f/services/2a8319b0-bc61-4fa3-8e75-e8cd91b100f7/partitions/fc10b512-7fdb-484e-941d-e5bdf321322c/replicas/132778185055609975s, RequestStats: \n",
      "RequestStartTime: 2022-01-19T22:10:19.1638062Z, RequestEndTime: 2022-01-19T22:10:19.1638062Z,  Number of regions attempted:1\n",
      "{\"systemHistory\":[{\"dateUtc\":\"2022-01-19T22:09:22.3727700Z\",\"cpu\":0.504,\"memory\":494371452.000,\"threadInfo\":{\"isThreadStarving\":\"False\",\"threadWaitIntervalInMs\":0.0306,\"availableThreads\":32765,\"minThreads\":52,\"maxThreads\":32767}},{\"dateUtc\":\"2022-01-19T22:09:32.3830082Z\",\"cpu\":0.426,\"memory\":494266284.000,\"threadInfo\":{\"isThreadStarving\":\"False\",\"threadWaitIntervalInMs\":0.0174,\"availableThreads\":32765,\"minThreads\":52,\"maxThreads\":32767}},{\"dateUtc\":\"2022-01-19T22:09:42.3931740Z\",\"cpu\":0.376,\"memory\":494159576.000,\"threadInfo\":{\"isThreadStarving\":\"False\",\"threadWaitIntervalInMs\":0.0413,\"availableThreads\":32764,\"minThreads\":52,\"maxThreads\":32767}},{\"dateUtc\":\"2022-01-19T22:09:52.4033763Z\",\"cpu\":1.361,\"memory\":495129248.000,\"threadInfo\":{\"isThreadStarving\":\"False\",\"threadWaitIntervalInMs\":0.0177,\"availableThreads\":32762,\"minThreads\":52,\"maxThreads\":32767}},{\"dateUtc\":\"2022-01-19T22:10:02.4135644Z\",\"cpu\":0.591,\"memory\":494933828.000,\"threadInfo\":{\"isThreadStarving\":\"False\",\"threadWaitIntervalInMs\":0.0164,\"availableThreads\":32765,\"minThreads\":52,\"maxThreads\":32767}},{\"dateUtc\":\"2022-01-19T22:10:12.4237403Z\",\"cpu\":1.724,\"memory\":495304832.000,\"threadInfo\":{\"isThreadStarving\":\"False\",\"threadWaitIntervalInMs\":0.0205,\"availableThreads\":32765,\"minThreads\":52,\"maxThreads\":32767}}]}\n",
      "RequestStart: 2022-01-19T22:10:19.1638062Z; ResponseTime: 2022-01-19T22:10:19.1638062Z; StoreResult: StorePhysicalAddress: rntbd://10.0.0.26:11300/apps/da7ef5da-87ed-48f3-b118-57d6c185ac8f/services/2a8319b0-bc61-4fa3-8e75-e8cd91b100f7/partitions/fc10b512-7fdb-484e-941d-e5bdf321322c/replicas/132778185055609975s, LSN: 102, GlobalCommittedLsn: 102, PartitionKeyRangeId: , IsValid: True, StatusCode: 404, SubStatusCode: 1003, RequestCharge: 1, ItemLSN: -1, SessionToken: -1#102, UsingLocalLSN: False, TransportException: null, BELatencyMs: 1.24, ActivityId: 648e7813-f0bd-4c05-ba32-b97ebf629328, RetryAfterInMs: , TransportRequestTimeline: {\"requestTimeline\":[{\"event\": \"Created\", \"startTimeUtc\": \"2022-01-19T22:10:19.1638062Z\", \"durationInMs\": 0.0169},{\"event\": \"ChannelAcquisitionStarted\", \"startTimeUtc\": \"2022-01-19T22:10:19.1638231Z\", \"durationInMs\": 0.0099},{\"event\": \"Pipelined\", \"startTimeUtc\": \"2022-01-19T22:10:19.1638330Z\", \"durationInMs\": 0.2384},{\"event\": \"Transit Time\", \"startTimeUtc\": \"2022-01-19T22:10:19.1640714Z\", \"durationInMs\": 1.8292},{\"event\": \"Received\", \"startTimeUtc\": \"2022-01-19T22:10:19.1659006Z\", \"durationInMs\": 0.0222},{\"event\": \"Completed\", \"startTimeUtc\": \"2022-01-19T22:10:19.1659228Z\", \"durationInMs\": 0}],\"requestSizeInBytes\":474,\"responseMetadataSizeInBytes\":143,\"responseBodySizeInBytes\":44};\n",
      " ResourceType: Collection, OperationType: Read\n",
      "RequestStart: 2022-01-19T22:10:19.1638062Z; ResponseTime: 2022-01-19T22:10:19.1638062Z; StoreResult: StorePhysicalAddress: rntbd://10.0.0.21:11000/apps/da7ef5da-87ed-48f3-b118-57d6c185ac8f/services/2a8319b0-bc61-4fa3-8e75-e8cd91b100f7/partitions/fc10b512-7fdb-484e-941d-e5bdf321322c/replicas/132778185055609973s, LSN: 102, GlobalCommittedLsn: 102, PartitionKeyRangeId: , IsValid: True, StatusCode: 404, SubStatusCode: 1003, RequestCharge: 1, ItemLSN: -1, SessionToken: -1#102, UsingLocalLSN: False, TransportException: null, BELatencyMs: 0.674, ActivityId: 648e7813-f0bd-4c05-ba32-b97ebf629328, RetryAfterInMs: , TransportRequestTimeline: {\"requestTimeline\":[{\"event\": \"Created\", \"startTimeUtc\": \"2022-01-19T22:10:19.1638062Z\", \"durationInMs\": 0.0063},{\"event\": \"ChannelAcquisitionStarted\", \"startTimeUtc\": \"2022-01-19T22:10:19.1638125Z\", \"durationInMs\": 0.0065},{\"event\": \"Pipelined\", \"startTimeUtc\": \"2022-01-19T22:10:19.1638190Z\", \"durationInMs\": 0.3055},{\"event\": \"Transit Time\", \"startTimeUtc\": \"2022-01-19T22:10:19.1641245Z\", \"durationInMs\": 1.274},{\"event\": \"Received\", \"startTimeUtc\": \"2022-01-19T22:10:19.1653985Z\", \"durationInMs\": 0.0315},{\"event\": \"Completed\", \"startTimeUtc\": \"2022-01-19T22:10:19.1654300Z\", \"durationInMs\": 0}],\"requestSizeInBytes\":474,\"responseMetadataSizeInBytes\":143,\"responseBodySizeInBytes\":44};\n",
      " ResourceType: Collection, OperationType: Read\n",
      ", SDK: Microsoft.Azure.Documents.Common/2.14.0\n"
     ]
    }
   ],
   "source": [
    "c.merge(    \n",
    "    database=\"teste\", \n",
    "    container=\"container\", \n",
    "    id_key=\"IDM\", \n",
    "    content={\"IDM\": \"123\",\"h\": \"x\",\"Field\":\"x\"},\n",
    "    partition_key='/Field' #usado apenas para criação do container\n",
    "    )"
   ]
  },
  {
   "cell_type": "markdown",
   "metadata": {},
   "source": [
    "## <font color='yellow'>OVERWRITE</font>\n",
    "\n",
    "#### <font color='orange'>substitui o item antigo pelo novo</font>\n",
    "\n",
    "#### content\n",
    "> dicionario com os valores que serão inseridos ou atualizados, deve conter o **id_key** e a **partition_key**\n",
    "\n",
    "#### partition_key (chave de paritição)\n",
    "> (opcional) >> usada para definir o 'endereço' que o dado será gravado / apenas necessária caso o container não tenha sido criando\n",
    "\n",
    "#### container\n",
    "> nome da coleção\n",
    "\n",
    "#### database\n",
    "> nome da base de dados"
   ]
  },
  {
   "cell_type": "code",
   "execution_count": null,
   "metadata": {},
   "outputs": [],
   "source": [
    "c.overwrite(\n",
    "    database=\"teste\", \n",
    "    container=\"container\", \n",
    "    id_key=\"IDM\", \n",
    "    content={\"IDM\": \"123\",\"y\": \"x\",\"Field\":\"x\"}\n",
    ")"
   ]
  },
  {
   "cell_type": "markdown",
   "metadata": {},
   "source": []
  },
  {
   "cell_type": "markdown",
   "metadata": {},
   "source": [
    "## <font color='yellow'>LEITURA</font>\n",
    "\n",
    "#### <font color='orange'>consulta a base de dados</font>\n",
    "\n",
    "#### query\n",
    ">  SELECT c.{id_key},* from {container} as c where c.{id_key}='5'"
   ]
  },
  {
   "cell_type": "code",
   "execution_count": null,
   "metadata": {},
   "outputs": [
    {
     "data": {
      "text/plain": [
       "[{'IDM': '123',\n",
       "  'y': 'x',\n",
       "  'Field': 'x',\n",
       "  'id': '239675af-a4aa-44d9-b8d9-2d00a90354a6',\n",
       "  '_rid': '7BUoAPpfcy4IAAAAAAAAAA==',\n",
       "  '_self': 'dbs/7BUoAA==/colls/7BUoAPpfcy4=/docs/7BUoAPpfcy4IAAAAAAAAAA==/',\n",
       "  '_etag': '\"01006399-0000-0b00-0000-61a025600000\"',\n",
       "  '_attachments': 'attachments/',\n",
       "  'h': 'x',\n",
       "  '_ts': 1637885280}]"
      ]
     },
     "execution_count": 19,
     "metadata": {},
     "output_type": "execute_result"
    }
   ],
   "source": [
    "import json\n",
    "c.read(\n",
    "    database=\"teste\",\n",
    "    container=\"container\",\n",
    "    query=\"SELECT * from c\"\n",
    "    )"
   ]
  },
  {
   "cell_type": "markdown",
   "metadata": {},
   "source": [
    "## <font color='yellow'>DELETE_DOCS</font>\n",
    "\n",
    "#### <font color='orange'>Deleta todos os documentos que satisfazerem a query</font>"
   ]
  },
  {
   "cell_type": "code",
   "execution_count": null,
   "metadata": {},
   "outputs": [
    {
     "name": "stdout",
     "output_type": "stream",
     "text": [
      "\n",
      "4. Get a Container by id\n",
      "Container with id 'container' was found, it's link is dbs/teste/colls/container\n",
      "0 >> falha(s)\n",
      "2 >> item(s) apagado(s)\n"
     ]
    }
   ],
   "source": [
    "c.delete_Docs('teste','container','Field',\"Select * from c\")"
   ]
  },
  {
   "cell_type": "markdown",
   "metadata": {},
   "source": [
    "## <font color='yellow'>DELETE_CONTAINER</font>\n",
    "\n",
    "#### <font color='orange'>Deleta o container especificado</font>"
   ]
  },
  {
   "cell_type": "code",
   "execution_count": null,
   "metadata": {},
   "outputs": [
    {
     "name": "stdout",
     "output_type": "stream",
     "text": [
      "\n",
      "6. Delete Container\n",
      "Container with id 'container' was deleted\n"
     ]
    }
   ],
   "source": [
    "c.delete_Container(\n",
    "    database='teste',\n",
    "    container='container'\n",
    "    )"
   ]
  },
  {
   "cell_type": "markdown",
   "metadata": {},
   "source": [
    "## <font color='yellow'>DELETA A DATABAE</font>\n",
    "\n",
    "#### <font color='orange'>Deleta a database especificada</font>"
   ]
  },
  {
   "cell_type": "code",
   "execution_count": null,
   "metadata": {},
   "outputs": [],
   "source": [
    "c.delete_Database('teste')"
   ]
  },
  {
   "cell_type": "markdown",
   "metadata": {},
   "source": [
    "## <font color='yellow'>CREATE_DATABASE</font>\n",
    "\n",
    "#### <font color='orange'>Cria a database especificada</font>"
   ]
  },
  {
   "cell_type": "code",
   "execution_count": null,
   "metadata": {},
   "outputs": [
    {
     "data": {
      "text/plain": [
       "<DatabaseProxy [dbs/teste]>"
      ]
     },
     "execution_count": 7,
     "metadata": {},
     "output_type": "execute_result"
    }
   ],
   "source": [
    "c.create_Database(\n",
    "    database='teste'\n",
    "    )"
   ]
  },
  {
   "cell_type": "markdown",
   "metadata": {},
   "source": [
    "## <font color='yellow'>CREATE_CONTAINER</font>\n",
    "\n",
    "#### <font color='orange'>Cria o container especificado</font>"
   ]
  },
  {
   "cell_type": "code",
   "execution_count": null,
   "metadata": {},
   "outputs": [
    {
     "data": {
      "text/plain": [
       "<ContainerProxy [dbs/teste/colls/container]>"
      ]
     },
     "execution_count": 31,
     "metadata": {},
     "output_type": "execute_result"
    }
   ],
   "source": [
    "c.create_Container(\n",
    "    database='teste',\n",
    "    container='container',\n",
    "    partition_key='/Field'\n",
    ")"
   ]
  },
  {
   "cell_type": "code",
   "execution_count": null,
   "metadata": {},
   "outputs": [],
   "source": []
  }
 ],
 "metadata": {
  "interpreter": {
   "hash": "bcad2367994e774752ff47ac9b56e5fd8bb1fcdd736a28b97c47fd6ad70d2352"
  },
  "kernelspec": {
   "display_name": "Python 3.7.9 64-bit",
   "name": "python3"
  },
  "language_info": {
   "codemirror_mode": {
    "name": "ipython",
    "version": 3
   },
   "file_extension": ".py",
   "mimetype": "text/x-python",
   "name": "python",
   "nbconvert_exporter": "python",
   "pygments_lexer": "ipython3",
   "version": "3.8.10"
  },
  "orig_nbformat": 4
 },
 "nbformat": 4,
 "nbformat_minor": 2
}
