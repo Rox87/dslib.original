{
 "cells": [
  {
   "cell_type": "markdown",
   "metadata": {},
   "source": [
    "# <font color='white'>LAKE</font>"
   ]
  },
  {
   "cell_type": "markdown",
   "metadata": {},
   "source": [
    "### <font color='yellow'>Importações</font>\n",
    "\n",
    "> (*) adicione a raiz desse projeto na variavel de ambiente >> **$PYTHONPATH**\n"
   ]
  },
  {
   "cell_type": "code",
   "execution_count": 1,
   "metadata": {},
   "outputs": [],
   "source": [
    "from dslib.stor import lake\n",
    "import os"
   ]
  },
  {
   "cell_type": "markdown",
   "metadata": {},
   "source": [
    "### <font color='yellow'>Instânciando objeto</font>\n",
    "\n",
    "> o metodo factory chama o construtor e devolve o objeto **blob** para uso da aplicação"
   ]
  },
  {
   "cell_type": "code",
   "execution_count": 2,
   "metadata": {},
   "outputs": [],
   "source": [
    "lk = lake.factory(os.environ['storVIVOBKO'])"
   ]
  },
  {
   "cell_type": "markdown",
   "metadata": {},
   "source": [
    "### <font color='yellow'>Parâmetros:<br></font>\n",
    "\n",
    "> <font color='orange'>None > no fs e dir > são substibrtuidos pelo ultimo valor válido  | **''**  no diretorio > representa a raiz do mesmo "
   ]
  },
  {
   "cell_type": "markdown",
   "metadata": {},
   "source": [
    "### <font color='yellow'>Upload</font>"
   ]
  },
  {
   "cell_type": "code",
   "execution_count": 3,
   "metadata": {},
   "outputs": [],
   "source": [
    "lk.up(\n",
    "    content='{\"teste\":\"1\"}',\n",
    "    lake_filename='teste.json',\n",
    "    dir='',\n",
    "    fs='files'\n",
    "    )"
   ]
  },
  {
   "cell_type": "markdown",
   "metadata": {},
   "source": [
    "### <font color='yellow'>Dowload >> Load as JSON</font>"
   ]
  },
  {
   "cell_type": "code",
   "execution_count": 4,
   "metadata": {},
   "outputs": [
    {
     "data": {
      "text/plain": [
       "{'teste': '1'}"
      ]
     },
     "execution_count": 4,
     "metadata": {},
     "output_type": "execute_result"
    }
   ],
   "source": [
    "import json\n",
    "json.load(lk.down(\n",
    "    lake_filename='teste.json',\n",
    "    dir=None,\n",
    "    fs=None,\n",
    "    renew=True\n",
    "    )\n",
    "    )"
   ]
  },
  {
   "cell_type": "markdown",
   "metadata": {},
   "source": [
    "## <font color='yellow'>Deletar LAKE</font>"
   ]
  },
  {
   "cell_type": "code",
   "execution_count": 5,
   "metadata": {},
   "outputs": [],
   "source": [
    "lk.delete(lake_filename='teste.json')"
   ]
  },
  {
   "cell_type": "markdown",
   "metadata": {},
   "source": [
    "### <font color='yellow'>Listar Diretório</font>"
   ]
  },
  {
   "cell_type": "code",
   "execution_count": 6,
   "metadata": {},
   "outputs": [
    {
     "name": "stdout",
     "output_type": "stream",
     "text": [
      "detratores.json\n",
      "dic_tfidf\n",
      "metricas.json\n",
      "pipeline.json\n",
      "trained\n"
     ]
    }
   ],
   "source": [
    "for item in lk.list():\n",
    "    print(item.name)"
   ]
  },
  {
   "cell_type": "code",
   "execution_count": 7,
   "metadata": {},
   "outputs": [
    {
     "name": "stdout",
     "output_type": "stream",
     "text": [
      "detratores.json\n",
      "dic_tfidf\n",
      "dic_tfidf/dic_tfidf.pkl\n",
      "metricas.json\n",
      "pipeline.json\n",
      "trained\n",
      "trained/dic_tfidf\n",
      "trained/dic_tfidf/dictionary_tfidf_2021-10-1_12-25.pkl\n",
      "trained/dic_tfidf/dictionary_tfidf_2021-10-1_12-28.pkl\n",
      "trained/dic_tfidf/dictionary_tfidf_2021-10-1_9-11.pkl\n",
      "trained/dic_tfidf/dictionary_tfidf_2021-10-1_9-14.pkl\n",
      "trained/dic_tfidf/dictionary_tfidf_2021-10-1_9-17.pkl\n",
      "trained/dic_tfidf/dictionary_tfidf_2021-10-1_9-18.pkl\n",
      "trained/dic_tfidf/dictionary_tfidf_2021-10-1_9-20.pkl\n",
      "trained/dic_tfidf/dictionary_tfidf_2021-10-1_9-26.pkl\n",
      "trained/dic_tfidf/dictionary_tfidf_2021-10-1_9-39.pkl\n",
      "trained/dic_tfidf/dictionary_tfidf_2021-10-1_9-44.pkl\n",
      "trained/dic_tfidf/dictionary_tfidf_2021-10-1_9-46.pkl\n",
      "trained/dic_tfidf/dictionary_tfidf_2021-9-30_21-48.pkl\n",
      "trained/dic_tfidf/dictionary_tfidf_2021-9-30_21-55.pkl\n",
      "trained/dic_tfidf/dictionary_tfidf_2021-9-30_22-12.pkl\n",
      "trained/dic_tfidf/dictionary_tfidf_2021-9-30_22-28.pkl\n",
      "trained/dic_tfidf/dictionary_tfidf_2021-9-30_22-31.pkl\n",
      "trained/dic_tfidf/dictionary_tfidf_2021-9-30_23-12.pkl\n"
     ]
    }
   ],
   "source": [
    "for item in lk.list_recursive():\n",
    "    print(item.name)"
   ]
  },
  {
   "cell_type": "markdown",
   "metadata": {},
   "source": [
    "### <font color='yellow'>Arquivo Mais Novo</font>\n",
    "\n",
    "retorna o conteudo do arquivo mais novo no diretorio"
   ]
  },
  {
   "cell_type": "code",
   "execution_count": 8,
   "metadata": {},
   "outputs": [
    {
     "data": {
      "text/plain": [
       "<_io.BufferedReader name='C:\\\\Users\\\\rodri\\\\AppData\\\\Local\\\\Temp\\\\trained'>"
      ]
     },
     "execution_count": 8,
     "metadata": {},
     "output_type": "execute_result"
    }
   ],
   "source": [
    "lk.newerInDir()"
   ]
  },
  {
   "cell_type": "code",
   "execution_count": null,
   "metadata": {},
   "outputs": [],
   "source": []
  },
  {
   "cell_type": "code",
   "execution_count": null,
   "metadata": {},
   "outputs": [],
   "source": []
  }
 ],
 "metadata": {
  "interpreter": {
   "hash": "bcad2367994e774752ff47ac9b56e5fd8bb1fcdd736a28b97c47fd6ad70d2352"
  },
  "kernelspec": {
   "display_name": "Python 3.7.9 64-bit",
   "name": "python3"
  },
  "language_info": {
   "codemirror_mode": {
    "name": "ipython",
    "version": 3
   },
   "file_extension": ".py",
   "mimetype": "text/x-python",
   "name": "python",
   "nbconvert_exporter": "python",
   "pygments_lexer": "ipython3",
   "version": "3.8.10"
  },
  "orig_nbformat": 4
 },
 "nbformat": 4,
 "nbformat_minor": 2
}
